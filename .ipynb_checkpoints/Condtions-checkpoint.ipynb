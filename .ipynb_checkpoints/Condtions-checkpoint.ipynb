{
 "cells": [
  {
   "cell_type": "markdown",
   "id": "235d23b7-6581-43b4-9315-d53f6b0e1065",
   "metadata": {},
   "source": [
    "How do conditional statements work in Python? Illustrate with examples?"
   ]
  },
  {
   "cell_type": "raw",
   "id": "bc630ce3-ff19-44f1-af15-ce3bbb1e53be",
   "metadata": {},
   "source": [
    "1.\tif  Statement : The if statement is used to test a specific condition. If the condition evaluates to True, the block of code inside the if statement is executed.\n",
    "2.\tif-else Statement: The if-else statement is used to execute one block of code if the condition is True and another block of code if the condition is False.\n",
    "3.\tif-elif-else Statement: The if-elif-else statement allows you to test multiple conditions sequentially. The first condition that evaluates to True will have its corresponding block of code executed.\n",
    "4.\tNested if Statements: You can also nest if statements within each other to check multiple conditions.\n",
    "5.\tUsing Logical Operators with Conditional Statements: Logical operators like and, or, and not can be used to combine multiple conditions."
   ]
  },
  {
   "cell_type": "code",
   "execution_count": 1,
   "id": "0e0bc280-6357-40b4-9ffe-8cfa3ab3370d",
   "metadata": {},
   "outputs": [
    {
     "name": "stdout",
     "output_type": "stream",
     "text": [
      "a is greater than 5\n"
     ]
    }
   ],
   "source": [
    "# Example of an if statement\n",
    "a = 10\n",
    "if a > 5:\n",
    "    print(\"a is greater than 5\")"
   ]
  },
  {
   "cell_type": "code",
   "execution_count": 2,
   "id": "5c0a5f2d-e0e8-40ed-9153-1e1cbc231c94",
   "metadata": {},
   "outputs": [
    {
     "name": "stdout",
     "output_type": "stream",
     "text": [
      "a is not greater than 5\n"
     ]
    }
   ],
   "source": [
    "# Example of an if-else statement\n",
    "a = 4\n",
    "if a > 5:\n",
    "    print(\"a is greater than 5\")\n",
    "else:\n",
    "    print(\"a is not greater than 5\")"
   ]
  },
  {
   "cell_type": "code",
   "execution_count": 3,
   "id": "e2fd7af6-b4aa-44c2-b4d9-bcfae2fd4aa6",
   "metadata": {},
   "outputs": [
    {
     "name": "stdout",
     "output_type": "stream",
     "text": [
      "a is equal to 5\n"
     ]
    }
   ],
   "source": [
    "# Example of an if-elif-else statement\n",
    "a = 5\n",
    "if a > 5:\n",
    "    print(\"a is greater than 5\")\n",
    "elif a == 5:\n",
    "    print(\"a is equal to 5\")\n",
    "else:\n",
    "    print(\"a is less than 5\")"
   ]
  },
  {
   "cell_type": "code",
   "execution_count": 4,
   "id": "51005140-7abc-4049-bc93-3cfe1cfbf2e1",
   "metadata": {},
   "outputs": [
    {
     "name": "stdout",
     "output_type": "stream",
     "text": [
      "a is greater than 5 and b is greater than 15\n"
     ]
    }
   ],
   "source": [
    "# Example of nested if statements\n",
    "a = 10\n",
    "b = 20\n",
    "if a > 5:\n",
    "    if b > 15:\n",
    "        print(\"a is greater than 5 and b is greater than 15\")"
   ]
  },
  {
   "cell_type": "code",
   "execution_count": null,
   "id": "545bafec-4372-4a21-9eca-c3ac73579a4d",
   "metadata": {},
   "outputs": [],
   "source": []
  }
 ],
 "metadata": {
  "kernelspec": {
   "display_name": "Python 3 (ipykernel)",
   "language": "python",
   "name": "python3"
  },
  "language_info": {
   "codemirror_mode": {
    "name": "ipython",
    "version": 3
   },
   "file_extension": ".py",
   "mimetype": "text/x-python",
   "name": "python",
   "nbconvert_exporter": "python",
   "pygments_lexer": "ipython3",
   "version": "3.10.8"
  }
 },
 "nbformat": 4,
 "nbformat_minor": 5
}
