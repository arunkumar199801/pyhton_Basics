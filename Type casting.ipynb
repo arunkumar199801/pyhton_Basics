{
 "cells": [
  {
   "cell_type": "markdown",
   "id": "47e004e8-a4dc-4814-ba0d-ccab157fe087",
   "metadata": {},
   "source": [
    "Explain the concept of type casting in Python with examples?"
   ]
  },
  {
   "cell_type": "raw",
   "id": "b3ab47fa-75d6-42cf-8082-67d3cd0a505b",
   "metadata": {},
   "source": [
    "1.\tImplicit Type Casting: Python automatically converts one data type to another. This happens when the conversion is safe and there is no data loss.\n",
    "\n",
    "2.\tExplicit Type Casting: You manually convert one data type to another using Python's built-in functions. Common functions include int(), float(), str(), list(), etc.\n"
   ]
  },
  {
   "cell_type": "markdown",
   "id": "aef28e83-57d6-4029-9381-7a4ab14398da",
   "metadata": {},
   "source": [
    "Implicit Type Casting"
   ]
  },
  {
   "cell_type": "code",
   "execution_count": 1,
   "id": "0edceadf-f803-4826-a4f4-3aeba673c31d",
   "metadata": {},
   "outputs": [
    {
     "name": "stdout",
     "output_type": "stream",
     "text": [
      "30\n",
      "<class 'int'>\n"
     ]
    }
   ],
   "source": [
    "a = 10\n",
    "b=20\n",
    "c= a+b\n",
    "print(c)\n",
    "print(type(c))"
   ]
  },
  {
   "cell_type": "markdown",
   "id": "91b0346c-1520-48d2-af69-a6f796021b81",
   "metadata": {},
   "source": []
  },
  {
   "cell_type": "markdown",
   "id": "f96eef0b-6a78-4af1-95a9-8eee909ccf01",
   "metadata": {},
   "source": [
    "Explicit Type Casting"
   ]
  },
  {
   "cell_type": "code",
   "execution_count": 3,
   "id": "c4a66962-1bf6-4dd4-8152-84c838e1aae8",
   "metadata": {},
   "outputs": [
    {
     "name": "stdout",
     "output_type": "stream",
     "text": [
      "30.0\n",
      "<class 'float'>\n"
     ]
    }
   ],
   "source": [
    "a = 10\n",
    "b=float(20) #Explicit Type Casting\n",
    "c= a+b\n",
    "print(c)\n",
    "print(type(c)) #Implicit Type Casting"
   ]
  },
  {
   "cell_type": "code",
   "execution_count": null,
   "id": "e154d582-88e7-4276-a41d-bef2f26a1002",
   "metadata": {},
   "outputs": [],
   "source": []
  }
 ],
 "metadata": {
  "kernelspec": {
   "display_name": "Python 3 (ipykernel)",
   "language": "python",
   "name": "python3"
  },
  "language_info": {
   "codemirror_mode": {
    "name": "ipython",
    "version": 3
   },
   "file_extension": ".py",
   "mimetype": "text/x-python",
   "name": "python",
   "nbconvert_exporter": "python",
   "pygments_lexer": "ipython3",
   "version": "3.10.8"
  }
 },
 "nbformat": 4,
 "nbformat_minor": 5
}
