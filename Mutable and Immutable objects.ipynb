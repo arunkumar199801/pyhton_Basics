{
 "cells": [
  {
   "cell_type": "markdown",
   "id": "0b20bfce-ab58-42f9-9053-73f365d48fcb",
   "metadata": {},
   "source": [
    "MUTABLE OBJECTS:- are objects whose state or contents can be changed after they are created. Common examples of mutable objects include lists, dictionaries, and sets"
   ]
  },
  {
   "cell_type": "raw",
   "id": "19ca84b6-22e1-472a-92eb-6d3972d41bff",
   "metadata": {},
   "source": [
    "Example of list using append:- adding one list value into another list"
   ]
  },
  {
   "cell_type": "code",
   "execution_count": 3,
   "id": "7bad46d9-1d0b-49db-b837-79effd756965",
   "metadata": {},
   "outputs": [
    {
     "name": "stdout",
     "output_type": "stream",
     "text": [
      "Example of lsits using append function\n",
      "[['Arun', 1, 10.5, 'kumar']]\n"
     ]
    }
   ],
   "source": [
    "print('Example of lsits using append function')\n",
    "mylist = [\"Arun\",1,10.5,\"kumar\"]\n",
    "mylist2= []\n",
    "mylist2.append(mylist)\n",
    "print(mylist2)"
   ]
  },
  {
   "cell_type": "code",
   "execution_count": 4,
   "id": "1dfd49d5-6234-4a18-a03e-909fbec2dec1",
   "metadata": {},
   "outputs": [
    {
     "name": "stdout",
     "output_type": "stream",
     "text": [
      "Example of lsits using append function\n",
      "['tarun', 11, ['Arun', 1, 10.5, 'kumar']]\n"
     ]
    }
   ],
   "source": [
    "print('Example of lsits using append function')\n",
    "mylist = [\"Arun\",1,10.5,\"kumar\"]\n",
    "mylist2= ['tarun', 11]\n",
    "mylist2.append(mylist)\n",
    "print(mylist2)"
   ]
  },
  {
   "cell_type": "code",
   "execution_count": 9,
   "id": "0af95c60-05e9-4a76-aa4c-fa6534fd0487",
   "metadata": {},
   "outputs": [
    {
     "name": "stdout",
     "output_type": "stream",
     "text": [
      "Example of lsits using append function\n",
      "[10.5]\n"
     ]
    }
   ],
   "source": [
    "print('Example of lsits using append function')\n",
    "mylist = [\"Arun\",1,10.5,\"kumar\"]\n",
    "print(mylist[2:3])"
   ]
  },
  {
   "cell_type": "code",
   "execution_count": 11,
   "id": "3774c2be-c6e1-4866-b622-23f0fb347c59",
   "metadata": {},
   "outputs": [
    {
     "data": {
      "text/plain": [
       "2"
      ]
     },
     "execution_count": 11,
     "metadata": {},
     "output_type": "execute_result"
    }
   ],
   "source": [
    "list= [[1,2,3],[4,5,6],[7,8,9]]\n",
    "list[0][1]"
   ]
  },
  {
   "cell_type": "raw",
   "id": "cb39fb91-e4ad-42d2-8ed1-ba754c5c600b",
   "metadata": {},
   "source": [
    "UPDATING THE VALUE"
   ]
  },
  {
   "cell_type": "code",
   "execution_count": 13,
   "id": "8568c6cc-ec2e-4ab3-bbbe-34144cae2267",
   "metadata": {},
   "outputs": [
    {
     "name": "stdout",
     "output_type": "stream",
     "text": [
      "['puneet', 1, 10.5, 'kumar']\n"
     ]
    }
   ],
   "source": [
    "#changing the value\n",
    "mylist = [\"Arun\",1,10.5,\"kumar\"]\n",
    "mylist[0] = 'puneet'\n",
    "print(mylist)"
   ]
  },
  {
   "cell_type": "code",
   "execution_count": null,
   "id": "5115300b-c584-483d-a801-f923e2ae9542",
   "metadata": {},
   "outputs": [],
   "source": []
  }
 ],
 "metadata": {
  "kernelspec": {
   "display_name": "Python 3 (ipykernel)",
   "language": "python",
   "name": "python3"
  },
  "language_info": {
   "codemirror_mode": {
    "name": "ipython",
    "version": 3
   },
   "file_extension": ".py",
   "mimetype": "text/x-python",
   "name": "python",
   "nbconvert_exporter": "python",
   "pygments_lexer": "ipython3",
   "version": "3.10.8"
  }
 },
 "nbformat": 4,
 "nbformat_minor": 5
}
