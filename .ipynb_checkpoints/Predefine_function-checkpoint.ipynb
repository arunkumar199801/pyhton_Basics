{
 "cells": [
  {
   "cell_type": "markdown",
   "id": "d65f49f6-30b7-4d5e-8f05-e38b9cc2d786",
   "metadata": {},
   "source": [
    "PREDIFINE FUNCTIONS"
   ]
  },
  {
   "cell_type": "raw",
   "id": "45004401-92f0-4af7-85ba-f1e5a536ce09",
   "metadata": {},
   "source": [
    "Example of FOR, IN, IF,ELIF,ELSE , AND, OR, NOT, RANGE, FROM"
   ]
  },
  {
   "cell_type": "code",
   "execution_count": 1,
   "id": "3638ad5b-b156-4bcf-bd55-5fc415a204cd",
   "metadata": {},
   "outputs": [
    {
     "name": "stdout",
     "output_type": "stream",
     "text": [
      "NOT condition:1\n",
      "\n",
      "NOT condition:2\n",
      "\n",
      "NOT condition:3\n",
      "\n",
      "OR condition:4\n",
      "\n",
      "OR condition:5\n",
      "\n",
      "AND condition:6| next is elif condition\n",
      "\n",
      "NOT condition:7\n",
      "\n",
      "OR condition:8\n",
      "\n",
      "NOT condition:9\n",
      "\n",
      "OR condition:10\n",
      "\n",
      "LOOP ENDED\n"
     ]
    }
   ],
   "source": [
    "for i in range(1,11):\n",
    "    if(i%2==0 and i%3==0):\n",
    "        print(f\"AND condition:{i}| next is elif condition\\n\")\n",
    "    elif(i%4==0 or i%5==0):\n",
    "        print(f\"OR condition:{i}\\n\")\n",
    "    elif(i%6!=0):\n",
    "        print(f\"NOT condition:{i}\\n\")\n",
    "    else:\n",
    "        print(\"else condition\")\n",
    "print(\"LOOP ENDED\")"
   ]
  },
  {
   "cell_type": "raw",
   "id": "308aa682-d867-4498-9662-a3efd4ca1804",
   "metadata": {},
   "source": [
    "EXAMPLE OF TRUE ,FALSE"
   ]
  },
  {
   "cell_type": "code",
   "execution_count": 2,
   "id": "392059b5-d3c0-4e89-b7db-2a4effa3986f",
   "metadata": {},
   "outputs": [
    {
     "name": "stdout",
     "output_type": "stream",
     "text": [
      "example of true and false\n",
      " true\n"
     ]
    }
   ],
   "source": [
    "print('example of true and false')\n",
    "if(True and True):\n",
    "    print(' true')"
   ]
  },
  {
   "cell_type": "raw",
   "id": "ec00a790-9fee-4d33-b290-34eedaed87c1",
   "metadata": {},
   "source": [
    "Example of break , continue"
   ]
  },
  {
   "cell_type": "code",
   "execution_count": 3,
   "id": "09512fe7-2434-4ede-89af-d366490a400c",
   "metadata": {},
   "outputs": [
    {
     "name": "stdout",
     "output_type": "stream",
     "text": [
      "Example of break and continue\n",
      "1\n",
      "3\n",
      "5\n",
      "7\n",
      "9\n",
      "11\n",
      "13\n",
      "15\n",
      "17\n",
      "19\n"
     ]
    }
   ],
   "source": [
    "print('Example of break and continue')\n",
    "for i in range (1,30):\n",
    "    if(i==20):\n",
    "        break\n",
    "    if(i%2==0):\n",
    "        continue\n",
    "    print(i)"
   ]
  },
  {
   "cell_type": "code",
   "execution_count": null,
   "id": "f1e29d0e-2770-4fd5-92af-ab14fa3c9c6f",
   "metadata": {},
   "outputs": [],
   "source": []
  }
 ],
 "metadata": {
  "kernelspec": {
   "display_name": "Python 3 (ipykernel)",
   "language": "python",
   "name": "python3"
  },
  "language_info": {
   "codemirror_mode": {
    "name": "ipython",
    "version": 3
   },
   "file_extension": ".py",
   "mimetype": "text/x-python",
   "name": "python",
   "nbconvert_exporter": "python",
   "pygments_lexer": "ipython3",
   "version": "3.10.8"
  }
 },
 "nbformat": 4,
 "nbformat_minor": 5
}
