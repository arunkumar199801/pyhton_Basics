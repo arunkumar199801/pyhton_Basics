{
 "cells": [
  {
   "cell_type": "markdown",
   "id": "fc6aa071-0572-4a9d-b029-b6c58ac79531",
   "metadata": {},
   "source": [
    "Describe the different types of loops in Python and their use cases with examples."
   ]
  },
  {
   "cell_type": "markdown",
   "id": "f99ca29b-a351-4fd1-ad46-6e3a74e55cfc",
   "metadata": {},
   "source": [
    "Ans: In Python, there are two primary types of loops: for loops and while loops. Both are used to execute a block of code repeatedly, but they are suited to different use cases.\n",
    "\n",
    "1.\tFor Loop: A for loop is used to iterate over a sequence (e.g., a list, tuple, dictionary, set, or string) or other iterable objects. It is commonly used when the number of iterations is known beforehand.\n",
    "\n",
    "2.\twhile Loop: A while loop repeatedly executes a block of code as long as a specified condition is true. It is commonly used when the number of iterations is not known beforehand and depends on some dynamic condition. \n"
   ]
  },
  {
   "cell_type": "code",
   "execution_count": null,
   "id": "1341a0ff-4651-42aa-bbcd-965dc822da1d",
   "metadata": {},
   "outputs": [],
   "source": []
  },
  {
   "cell_type": "markdown",
   "id": "9058ce3a-e0c0-4337-8fc2-c38f719b8d3b",
   "metadata": {},
   "source": [
    "Use Case: Iterating through elements of a list."
   ]
  },
  {
   "cell_type": "code",
   "execution_count": 1,
   "id": "6d18d742-22b0-49a7-8195-d36333a85620",
   "metadata": {},
   "outputs": [
    {
     "name": "stdout",
     "output_type": "stream",
     "text": [
      "apple\n",
      "banana\n",
      "cherry\n"
     ]
    }
   ],
   "source": [
    "# Example of a for loop iterating over a list\n",
    "fruits = [\"apple\", \"banana\", \"cherry\"]\n",
    "for fruit in fruits:\n",
    "    print(fruit)\n"
   ]
  },
  {
   "cell_type": "code",
   "execution_count": null,
   "id": "a9b31664-d012-4f06-a6ad-a0cfe317f325",
   "metadata": {},
   "outputs": [],
   "source": []
  },
  {
   "cell_type": "markdown",
   "id": "0705eeb7-358b-436b-9136-b0356670577d",
   "metadata": {},
   "source": [
    "Use Case: Iterating through a range of numbers."
   ]
  },
  {
   "cell_type": "code",
   "execution_count": 2,
   "id": "99736186-3dd3-44b5-ba78-04e1818081d5",
   "metadata": {},
   "outputs": [
    {
     "name": "stdout",
     "output_type": "stream",
     "text": [
      "0\n",
      "1\n",
      "2\n",
      "3\n",
      "4\n"
     ]
    }
   ],
   "source": [
    "# Example of a for loop with range\n",
    "for i in range(5):\n",
    "    print(i)\n"
   ]
  },
  {
   "cell_type": "code",
   "execution_count": null,
   "id": "407bb7f0-919b-4eed-bd53-df2f768ee896",
   "metadata": {},
   "outputs": [],
   "source": []
  },
  {
   "cell_type": "markdown",
   "id": "689e87cc-8709-4fd5-9393-dca32b7a9b89",
   "metadata": {},
   "source": [
    "Use Case: Iterating through the characters of a string."
   ]
  },
  {
   "cell_type": "code",
   "execution_count": 3,
   "id": "468e347f-667e-4bcc-bd4a-5737c484b3d7",
   "metadata": {},
   "outputs": [
    {
     "name": "stdout",
     "output_type": "stream",
     "text": [
      "h\n",
      "e\n",
      "l\n",
      "l\n",
      "o\n"
     ]
    }
   ],
   "source": [
    "# Example of a for loop iterating over a string\n",
    "for char in \"hello\":\n",
    "    print(char)\n"
   ]
  },
  {
   "cell_type": "code",
   "execution_count": null,
   "id": "f63ca9aa-37f4-41f8-aef7-15ec42c09aee",
   "metadata": {},
   "outputs": [],
   "source": []
  },
  {
   "cell_type": "markdown",
   "id": "cf0e99f1-0869-4f7c-9e02-b266c03eee3f",
   "metadata": {},
   "source": [
    "Use Case: Iterating through keys and values of a dictionary."
   ]
  },
  {
   "cell_type": "code",
   "execution_count": 8,
   "id": "ba2d0c28-04fc-4d2a-a72e-40a194f2ea54",
   "metadata": {},
   "outputs": [
    {
     "name": "stdout",
     "output_type": "stream",
     "text": [
      "name: Alice\n",
      "age: 25\n",
      "city: New York\n"
     ]
    }
   ],
   "source": [
    "# Example of a for loop iterating over a dictionary\n",
    "person = {\"name\": \"Alice\", \n",
    "          \"age\": 25, \n",
    "          \"city\": \"New York\"}\n",
    "for key, value in person.items():\n",
    "    print(f\"{key}: {value}\")\n"
   ]
  },
  {
   "cell_type": "code",
   "execution_count": null,
   "id": "f538d81f-7f7e-48f5-a6e7-07d61abc1c99",
   "metadata": {},
   "outputs": [],
   "source": []
  }
 ],
 "metadata": {
  "kernelspec": {
   "display_name": "Python 3 (ipykernel)",
   "language": "python",
   "name": "python3"
  },
  "language_info": {
   "codemirror_mode": {
    "name": "ipython",
    "version": 3
   },
   "file_extension": ".py",
   "mimetype": "text/x-python",
   "name": "python",
   "nbconvert_exporter": "python",
   "pygments_lexer": "ipython3",
   "version": "3.10.8"
  }
 },
 "nbformat": 4,
 "nbformat_minor": 5
}
